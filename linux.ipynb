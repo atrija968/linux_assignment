{
  "nbformat": 4,
  "nbformat_minor": 0,
  "metadata": {
    "colab": {
      "provenance": []
    },
    "kernelspec": {
      "name": "python3",
      "display_name": "Python 3"
    },
    "language_info": {
      "name": "python"
    }
  },
  "cells": [
    {
      "cell_type": "markdown",
      "source": [
        "#Linux Assignment\n"
      ],
      "metadata": {
        "id": "xVkH2N_jaqbb"
      }
    },
    {
      "cell_type": "markdown",
      "source": [
        "1- What is Linux?\n",
        "\n",
        "*   Linux is an open source Unix like operating system based on Kernel.\n",
        "*   It provides Process management, Memory management, Networking, System security, etc.\n",
        "* Popular distributions are Ubuntu, Debian, Kali Linux.\n",
        "\n"
      ],
      "metadata": {
        "id": "qVStfSYucjsx"
      }
    },
    {
      "cell_type": "markdown",
      "source": [
        "2- What is the difference between Hard Link & Soft Link?\n",
        "\n",
        "Hard Link:\n",
        "\n",
        "* Points directly to the same inode as the original file.\n",
        "* Same file data on disk.\n",
        "* Deleting the original file does not remove the hard link.\n",
        "\n",
        "```\n",
        "ln file1.txt file1_hardlink.txt\n",
        "```\n",
        "\n",
        "Soft Link:\n",
        "\n",
        "* Points to the path of the original file.\n",
        "* Like a shortcut\n",
        "* Breaks if the target is deleted or moved.\n",
        "\n",
        "```\n",
        "ln -s file1.txt file1_softlink.txt\n",
        "```"
      ],
      "metadata": {
        "id": "oZh7hc-6ex78"
      }
    },
    {
      "cell_type": "markdown",
      "source": [
        "3- What is a Kernel in Linux?\n",
        "\n",
        "* Acts as an interface between the Operating System and the Hardware attached to your host.\n",
        "* Responsibilities are Memory allocation,Process management, execution, file management, resourse usage.\n",
        "* Types of Kernel are Monolithic, Microlithic and Hybrid."
      ],
      "metadata": {
        "id": "gvj-Eyigf8yU"
      }
    },
    {
      "cell_type": "markdown",
      "source": [
        "4- How do you create a user account?\n",
        "\n",
        "\n",
        "```\n",
        "sudo useradd username\n",
        "```\n",
        "\n"
      ],
      "metadata": {
        "id": "zPPrzjtWg1v8"
      }
    },
    {
      "cell_type": "markdown",
      "source": [
        "5- What is the ‘grep’ command used for in Linux?\n",
        "* grep is use to search for pattern text.\n",
        "* Use to filter files and command output."
      ],
      "metadata": {
        "id": "toIp86o1hIRz"
      }
    },
    {
      "cell_type": "markdown",
      "source": [
        "6- Step1: Create user p1\n",
        "\n",
        "```\n",
        "sudo useradd p1\n",
        "```\n",
        "\n",
        "Step2: He should be part of 3 groups g1,g2,g3\n",
        "\n",
        "\n",
        "\n",
        "```\n",
        "sudo groupadd g1\n",
        "sudo groupadd g2\n",
        "sudo groupadd g3\n",
        "```\n",
        "\n",
        "```\n",
        "sudo usermod -aG g1,g2,g3 p1\n",
        "```\n",
        "\n",
        "\n",
        "Step3: whenever he creates a file automatically in the group section of file grp g1 should come.\n",
        "\n",
        "\n",
        "\n",
        "```\n",
        "sudo chown p1:g1 /home/p1\n",
        "sudo chmod 2775 /home/p1\n",
        "\n",
        "```\n",
        "```\n",
        "sudo chmod g+s /home/p1\n",
        "\n",
        "```\n",
        "\n",
        "\n",
        "\n",
        "\n",
        "\n",
        "\n",
        "\n"
      ],
      "metadata": {
        "id": "aqR80LHGhltV"
      }
    },
    {
      "cell_type": "markdown",
      "source": [
        "7- Step1: Create directory /tmp/bg as root user and create files inside it.\n",
        "\n",
        "\n",
        "```\n",
        "sudo mkdir /tmp/bg\n",
        "sudo touch /tmp/bg/file1 /tmp/bg/file2\n",
        "\n",
        "```\n",
        "\n",
        "Step2: “abhi” should be the owner of the directory. He should be able to create files and delete files inside the directory and also he should be able to add content to all files inside the directory.\n",
        "\n",
        "\n",
        "\n",
        "```\n",
        "sudo chown -R abhi /tmp/bg\n",
        "\n",
        "sudo chmod -R 700 /tmp/bg\n",
        "```\n",
        "\n",
        "\n",
        "\n"
      ],
      "metadata": {
        "id": "PU7tw34GiC4s"
      }
    },
    {
      "cell_type": "markdown",
      "source": [
        "8- You suspect that a particular process is consuming excessive CPU resources on your Linux server. How would you identify and terminate this process?\n",
        "\n",
        "* Check processes sorted by CPU\n",
        "\n",
        "```\n",
        "top\n",
        "```\n",
        "* Kill the process\n",
        "\n",
        "\n",
        "\n",
        "```\n",
        "kill 4563\n",
        "```\n",
        "\n",
        "\n",
        "\n"
      ],
      "metadata": {
        "id": "oTu5TG7HjGtm"
      }
    }
  ]
}